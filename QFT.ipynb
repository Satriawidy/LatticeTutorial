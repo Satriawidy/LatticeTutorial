{
 "cells": [
  {
   "cell_type": "markdown",
   "metadata": {},
   "source": [
    "# Package Declaration\n",
    "\n",
    "Here, we will only use numpy for numerical calculation. Other packages are used for visualisation and simplyifing the codes."
   ]
  },
  {
   "cell_type": "code",
   "execution_count": 149,
   "metadata": {},
   "outputs": [],
   "source": [
    "import numpy as np\n",
    "import matplotlib.pyplot as plt\n",
    "import itertools\n",
    "import math\n",
    "from tqdm import tqdm"
   ]
  },
  {
   "cell_type": "code",
   "execution_count": 173,
   "metadata": {},
   "outputs": [],
   "source": [
    "def standard_plot(axis):\n",
    "    axis.set_xlim(0, 5)\n",
    "    axis.set_xlabel(r'$r$')\n",
    "    axis.legend()"
   ]
  },
  {
   "cell_type": "markdown",
   "metadata": {},
   "source": [
    "# Gauge Invariant Metropolis\n",
    "\n",
    "Here, we construct a base class for arbitrary dimension gauge theory metropolis algorithm. Following its name, the algorithm can be used for any arbitrary spacetime dimension $D$ and any number $N$ of SU($N$) gauge group, although they can only simulate one gauge fields and does not involve any other fields. For concreteness, we are using $D=4 (3+1)$ and SU(3) gauge group. \n",
    "\n",
    "There are several variables that are always required for the calculations. Some are related to the physical system, while others are related to the metropolis sampling. Some variables that are fit into the first category are lattice separation $a$, coupling constant $\\beta$, and number of lattice sites $N$ (such that the length of the system is $aN$), while maximum update size $\\epsilon$, number of configurations generated, and some other variables fall into the second category.\n",
    "\n",
    "## Link Metropolis update\n",
    "\n",
    "Instead of updating gauge fields $A_{\\mu}(x)$ on each lattice site $x$, we update the link $U_{\\mu}$ between $x$ and $x + \\hat{mu}$. Instead of increasing or decreasing the matrix components by some random number, we multiply the links with hermitian matrices $U_{\\mu} \\rightarrow MU_{\\mu}$. Therefore, the first step is to generator random matrices and call them randomly later. This process is taken care by the following lines, which is inspired from [the following github pages](https://github.com/AlessandroCotellucci/Lattice-QCD-for-novice/blob/master/Wilson_loop.py)\n",
    "\n",
    "```\n",
    "H = np.random.uniform(-1, 1, (3, 3)) + np.random.uniform(-1, 1, (3, 3)) * (1j)\n",
    "H = (H + H.conj().T) / 2\n",
    "U = np.zeros((3, 3), dtype=complex)\n",
    "for k in range(30):\n",
    "    l = math.factorial(k)\n",
    "    U += (((self.eps * (1j)) ** k) / l ) * np.linalg.matrix_power(H, k)\n",
    "U /= np.linalg.det(U) ** (1/3)\n",
    "```\n",
    "\n",
    "### The action\n",
    "Analytic Lagrangian for SU$(N)$ gauge theory is given by $-\\frac{1}{4}F^a_{\\mu\\nu}F^{a\\mu\\nu}$, where $F_{\\mu\\nu}$ is a function of $A_{\\mu}$. As we deals with $U_{\\mu}$, we need to look for a function of $U_{\\mu}$ that approximate the Lagrangian. Fortunately, this can be achieved via Wilson plaquette/loop. The simplest action can be written as\n",
    "\n",
    "\\begin{equation}\n",
    "S \\approx \\beta\\sum_x\\sum_{\\mu,\\nu> \\mu}(1 - P_{\\mu\\nu}(x)), ~~~P_{\\mu\\nu}(x) = \\frac{1}{3}\\Re\\left[U_{\\mu}(x)U_{\\nu}(x + \\hat{\\mu}) U^{\\dagger}_{\\mu}(x + \\hat{\\nu})U^{\\dagger}_{\\nu}(x)\\right]\n",
    "\\end{equation}\n",
    "\n",
    "Exploiting the fact that $P_{\\mu\\nu}$ only contain matrix multiplication, we can factorise $U_{\\mu}$ when computing action difference, $\\Delta S_{U_\\mu} = (U_{\\mu} - MU_{\\mu})\\Gamma$. The Metropolis proposal $U_{\\mu} \\rightarrow MU_{\\mu}$ can then be accepted or rejected depending on $\\Delta S$. Different from the previous implementation, here we typically update the link variables $n_a$ times before moving into the next link. However, as we have stated before, due to $\\Gamma$ completely independent of $U_{\\mu}$, we only need to compute it once and perform $n_a$ proposals afterwards, preventing costly computation which happens if we compute new gamma in each update.\n",
    "\n",
    "```\n",
    "Gamma = self.gamma(U, x, x1, i)\n",
    "for j in range(self.na):    \n",
    "    M = self.Mlist[k[*x, i, j]]\n",
    "    U_new = M @ U[*x, i]\n",
    "    delta = self.b * np.trace((U[*x, i] - U_new) @ Gamma).real / 3\n",
    "    p_acc = np.exp(-delta)\n",
    "    \n",
    "    if draw[*x, i, j] < p_acc:\n",
    "        U[*x, i] = U_new\n",
    "```\n",
    "\n",
    "In the codes above, the computation of $\\Gamma$ is taken care by function ```gamma```. By continuing until all links have been visited, we have completed exactly one update.\n",
    "\n",
    "## Running the algorithm\n",
    "\n",
    "We start the run by proposing a trivial configurations, $\\{U_{\\mu}(x)\\} = \\{I\\}$, i.e. identity matrices. To avoid correlation between configurations, we discard $n_{corr}$ of configurations before accepting the next one. A special case is in the beginning of the metropolis algorithm, where we wait until the configurations has been \"thermalised\" by discarding $n_{update} * n_{corr}$ configurations. These are depicted in the following lines\n",
    "\n",
    "## Computing the observables\n",
    "\n",
    "The interesting observables we can compute from the lattice calculation are the Wilson loops. For now, we will compute $a\\times a$ and $a \\times 2 a$ Wilson loops. This is taken care by function ```loops```. The loops over all sites are then averaged, producing averaged Wilson loops."
   ]
  },
  {
   "cell_type": "code",
   "execution_count": 130,
   "metadata": {},
   "outputs": [],
   "source": [
    "class Metrogluon:\n",
    "    #Metropolis algorithm base class\n",
    "    def __init__(self, size = 0.25, beta = 5.5, u00 = 1, eps = 0.24, \n",
    "                 num_latt = 8, num_conf = 10, num_corr = 50, num_updt = 10, \n",
    "                 num_swee = 2, num_matr = 100, num_dime = 4):\n",
    "        self.a = size\n",
    "        self.b = beta\n",
    "        self.u = u00\n",
    "        self.eps = eps\n",
    "        self.N = num_latt\n",
    "        self.Ncf = num_conf\n",
    "        self.Ncr = num_corr\n",
    "        self.na  = num_updt\n",
    "        self.nb  = num_swee\n",
    "        self.Nma = num_matr\n",
    "        self.dim = num_dime\n",
    "        \n",
    "        self.accepted = 0\n",
    "        self.proposal = 0\n",
    "    \n",
    "\n",
    "    def randomatrix(self):\n",
    "        print(\"Generating Random Matrices\")\n",
    "        Mlist = []\n",
    "        for i in tqdm(range(self.Nma)):\n",
    "            H = np.random.uniform(-1, 1, (3, 3)) + np.random.uniform(-1, 1, (3, 3)) * (1j)\n",
    "            H = (H + H.conj().T) / 2\n",
    "            U = np.zeros((3, 3), dtype=complex)\n",
    "            for k in range(30):\n",
    "                l = math.factorial(k)\n",
    "                U += (((self.eps * (1j)) ** k) / l ) * np.linalg.matrix_power(H, k)\n",
    "            U /= np.linalg.det(U) ** (1/3)\n",
    "            Mlist.append(U)\n",
    "            Mlist.append(U.conj().T)\n",
    "\n",
    "        self.Mlist = Mlist \n",
    "\n",
    "    def gamma(self, U, x, x1, i):\n",
    "        Gamma = 0\n",
    "        for j in range(self.dim):\n",
    "            if j != i:\n",
    "                x2 = list(x); x2[j] = (x2[j] + 1) % self.N\n",
    "                x3 = list(x); x3[i] = (x3[i] + 1) % self.N; x3[j] = (x3[j] - 1)\n",
    "                x4 = list(x); x4[j] = (x4[j] - 1)\n",
    "                Gamma += U[*x1, j] @ U[*x2, i].conj().T @ U[*x, j].conj().T\n",
    "                Gamma += U[*x3, j].conj().T @ U[*x4, i].conj().T @ U[*x4, j]\n",
    "        \n",
    "        return Gamma\n",
    "    \n",
    "    def update(self, U):\n",
    "        k = np.random.randint(0, 2 * self.Nma, (*([self.N] * self.dim), self.dim, self.na))\n",
    "        draw = np.random.uniform(0, 1, (*([self.N] * self.dim), self.dim, self.na))\n",
    "        for x in itertools.product(*([range(self.N)] * self.dim)):\n",
    "            for i in range(self.dim):\n",
    "                x1 = list(x)\n",
    "                x1[i] = (x1[i] + 1) % self.N\n",
    "                Gamma = self.gamma(U, x, x1, i)\n",
    "                for j in range(self.na):    \n",
    "                    M = self.Mlist[k[*x, i, j]]\n",
    "                    U_new = M @ U[*x, i]\n",
    "                    delta = self.b * np.trace((U[*x, i] - U_new) @ Gamma).real / 3\n",
    "                    p_acc = np.exp(-delta)\n",
    "                    \n",
    "                    if draw[*x, i, j] < p_acc:\n",
    "                        U[*x, i] = U_new\n",
    "                        self.accepted += 1\n",
    "                    self.proposal += 1\n",
    "        return U\n",
    "    \n",
    "    def loops(self, U, x, x1, i):\n",
    "        ax1a = 0\n",
    "        ax2a = 0\n",
    "        for j in range(i + 1, self.dim):\n",
    "            x2, x3, x4 = list(x), list(x), list(x)\n",
    "            x2[j] = (x2[j] + 1) % self.N\n",
    "            x3[i] = (x3[i] + 1) % self.N\n",
    "            x3[j] = (x3[j] + 1) % self.N\n",
    "            x4[j] = (x4[j] + 2) % self.N\n",
    "            A1A = U[*x, i] @ U[*x1, j] @ U[*x2, i].conj().T @ U[*x, j].conj().T\n",
    "            A2A = U[*x, i] @ U[*x1, j] @ U[*x3, j] @ U[*x4, i].conj().T @ U[*x2, j].conj().T @ U[*x, j].conj().T\n",
    "            ax1a += np.trace(A1A).real / 3\n",
    "            ax2a += np.trace(A2A).real / 3\n",
    "        return ax1a, ax2a\n",
    "\n",
    "    def run_actual(self):\n",
    "\n",
    "        self.randomatrix()\n",
    "\n",
    "        U = np.zeros((*([self.N] * self.dim), self.dim, 3,3), dtype=complex)\n",
    "        for coords in tqdm(itertools.product(*([range(self.N)] * self.dim))):\n",
    "            for i in range(self.dim):\n",
    "                for j in range(3):\n",
    "                    U[*coords, i, j, j] = 1\n",
    "\n",
    "        print(\"Thermalising Initial Lattice\")\n",
    "        for i in tqdm(range(self.nb * self.Ncr)):\n",
    "            U = self.update(U)\n",
    "\n",
    "        AX1A, AX2A, cfgs = [], [], []\n",
    "        for i in tqdm(range(self.Ncf)):\n",
    "            for j in range(self.Ncr):\n",
    "                U = self.update(U)\n",
    "    \n",
    "            ax1a, ax2a = 0, 0\n",
    "            for x in itertools.product(*([range(self.N)] * self.dim)):\n",
    "                for k in range(self.dim):\n",
    "                    x1 = list(x)\n",
    "                    x1[k] = (x1[k] + 1) % self.N\n",
    "                    a, b = self.loops(U, x, x1, k)\n",
    "                    ax1a += a\n",
    "                    ax2a += b\n",
    "\n",
    "            AX1A.append(ax1a / ((self.N ** self.dim) * (self.dim - 1) * self.dim / 2))\n",
    "            AX2A.append(ax2a / ((self.N ** self.dim) * (self.dim - 1) * self.dim / 2))\n",
    "            cfgs.append(U.copy())\n",
    "            \n",
    "\n",
    "        self.AX1A = AX1A\n",
    "        self.AX2A = AX2A\n",
    "        self.cfgs = cfgs\n",
    "\n",
    "        return np.average(np.array(AX1A)), np.average(np.array(AX2A)), cfgs[-1]"
   ]
  },
  {
   "cell_type": "code",
   "execution_count": 131,
   "metadata": {},
   "outputs": [
    {
     "name": "stdout",
     "output_type": "stream",
     "text": [
      "Generating Random Matrices\n"
     ]
    },
    {
     "name": "stderr",
     "output_type": "stream",
     "text": [
      "100%|██████████| 100/100 [00:00<00:00, 1024.69it/s]\n",
      "4096it [00:00, 149513.68it/s]\n"
     ]
    },
    {
     "name": "stdout",
     "output_type": "stream",
     "text": [
      "Thermalising Initial Lattice\n"
     ]
    },
    {
     "name": "stderr",
     "output_type": "stream",
     "text": [
      "100%|██████████| 100/100 [04:30<00:00,  2.71s/it]\n",
      "100%|██████████| 10/10 [22:27<00:00, 134.76s/it]\n"
     ]
    }
   ],
   "source": [
    "Base = Metrogluon(num_conf = 10, num_latt = 8, num_dime = 4)\n",
    "ax1a, ax2a, U = Base.run_actual()"
   ]
  },
  {
   "cell_type": "markdown",
   "metadata": {},
   "source": [
    "Using the parameters provided in the lecture notes, we have run the metropolis algorithm and obtain the following values of Wilson loops"
   ]
  },
  {
   "cell_type": "code",
   "execution_count": 132,
   "metadata": {},
   "outputs": [
    {
     "name": "stdout",
     "output_type": "stream",
     "text": [
      "[0.50363183 0.49724293 0.49414296 0.49637212 0.49531332 0.49957464\n",
      " 0.49536606 0.49859411 0.4938333  0.49265049]\n",
      "[0.266933   0.25937974 0.25814408 0.2581106  0.2579821  0.26293245\n",
      " 0.25725859 0.2594482  0.25439538 0.25138605]\n",
      "average for axa  = 0.497 (0.003)\n",
      "average for ax2a = 0.259 (0.004)\n"
     ]
    }
   ],
   "source": [
    "AA1 = np.array(Base.AX1A)\n",
    "AA2 = np.array(Base.AX2A)\n",
    "\n",
    "print(AA1)\n",
    "print(AA2)\n",
    "print(f'average for axa  = {np.average(AA1):.3f} ({np.std(AA1):.3f})')\n",
    "print(f'average for ax2a = {np.average(AA2):.3f} ({np.std(AA2):.3f})')"
   ]
  },
  {
   "cell_type": "markdown",
   "metadata": {},
   "source": [
    "## Improved action\n",
    "\n",
    "Just like the case with QM Metropolis, we can also improve the accuracy of the calculation by adding higher order terms to the action. In this case, we add $a\\times 2a$ Wilson plaquette into the action, resulting in\n",
    "\n",
    "\\begin{equation}\n",
    "S \\approx -\\beta \\sum_x\\sum_{\\mu, \\nu> \\mu}\\left[\\frac{5}{3}P_{\\mu\\nu} - \\frac{R_{\\mu\\nu} + R_{\\nu\\mu}}{12}\\right]\n",
    "\\end{equation}"
   ]
  },
  {
   "cell_type": "code",
   "execution_count": 133,
   "metadata": {},
   "outputs": [],
   "source": [
    "class Metrogluon_imp(Metrogluon):\n",
    "    def __init__(self, *args, \n",
    "                 mode = 'unimproved',\n",
    "                 bbar = 1.719,\n",
    "                 u00b = 0.797,\n",
    "                 **kwargs):\n",
    "        super().__init__(*args, **kwargs)\n",
    "        self.mode = mode\n",
    "        self.bb   = bbar\n",
    "        self.uu   = u00b\n",
    "    \n",
    "    def gamma(self, U, x, x1, i):\n",
    "        Gamma = 0\n",
    "        for j in range(self.dim):\n",
    "            if j != i:\n",
    "                x2 = list(x); x2[j] = (x2[j] + 1) % self.N\n",
    "                x3 = list(x); x3[i] = (x3[i] + 1) % self.N; x3[j] = (x3[j] - 1) % self.N  \n",
    "                x4 = list(x); x4[j] = (x4[j] - 1) % self.N\n",
    "                Gamma += U[*x1, j] @ U[*x2, i].conj().T @ U[*x, j].conj().T\n",
    "                Gamma += U[*x3, j].conj().T @ U[*x4, i].conj().T @ U[*x4, j]\n",
    "        \n",
    "        if self.mode == 'improved':\n",
    "            Gamma_imp = 0\n",
    "            for j in range(self.dim):\n",
    "                if j != i:\n",
    "                    x2 = list(x); x2[i] = (x2[i] + 2) % self.N\n",
    "                    x3 = list(x); x3[i] = (x3[i] + 1) % self.N; x3[j] = (x3[j] + 1) % self.N\n",
    "                    x4 = list(x); x4[j] = (x4[j] + 1) % self.N\n",
    "                    x5 = list(x); x5[i] = (x5[i] + 2) % self.N; x5[j] = (x5[j] - 1) % self.N\n",
    "                    x6 = list(x); x6[i] = (x6[i] + 1) % self.N; x6[j] = (x6[j] - 1) % self.N \n",
    "                    x7 = list(x); x7[j] = (x7[j] - 1) % self.N\n",
    "                    x8 = list(x); x8[j] = (x8[j] + 2) % self.N\n",
    "                    x9 = list(x); x9[i] = (x9[i] + 1) % self.N; x9[j] = (x9[j] - 2) % self.N\n",
    "                    x10= list(x); x10[j]= (x10[j]- 2) % self.N\n",
    "                    x11= list(x); x11[i]= (x11[i]- 1) % self.N; x11[j]= (x11[j]+ 1) % self.N\n",
    "                    x12= list(x); x12[i]= (x12[i]- 1) % self.N\n",
    "                    x13= list(x); x13[i]= (x13[i]- 1) % self.N; x13[j]= (x13[j]- 1) % self.N\n",
    "                    Gamma_imp += U[*x1, i]          @ U[*x2, j]          @ U[*x3, i].conj().T @ U[*x4, i].conj().T @ U[*x , j].conj().T\n",
    "                    Gamma_imp += U[*x1, i]          @ U[*x5, j].conj().T @ U[*x6, i].conj().T @ U[*x7, i].conj().T @ U[*x7, j]\n",
    "                    Gamma_imp += U[*x1, j]          @ U[*x3, j]          @ U[*x8, i].conj().T @ U[*x4, j].conj().T @ U[*x , j].conj().T\n",
    "                    Gamma_imp += U[*x6, j].conj().T @ U[*x9, j].conj().T @ U[*x10,i].conj().T @ U[*x10,j]          @ U[*x7, j]\n",
    "                    Gamma_imp += U[*x1, j]          @ U[*x4, i].conj().T @ U[*x11,i].conj().T @ U[*x12,j].conj().T @ U[*x12,i]\n",
    "                    Gamma_imp += U[*x6, j].conj().T @ U[*x7, i].conj().T @ U[*x13,i].conj().T @ U[*x13,j]          @ U[*x12,i]\n",
    "            return (20 * Gamma - Gamma_imp / (self.uu**2)) * self.bb / (12 * self.b * self.uu**4)\n",
    "            \n",
    "        else:\n",
    "            return Gamma"
   ]
  },
  {
   "cell_type": "code",
   "execution_count": 134,
   "metadata": {},
   "outputs": [
    {
     "name": "stdout",
     "output_type": "stream",
     "text": [
      "Generating Random Matrices\n"
     ]
    },
    {
     "name": "stderr",
     "output_type": "stream",
     "text": [
      "100%|██████████| 100/100 [00:00<00:00, 1696.83it/s]\n",
      "4096it [00:00, 185587.87it/s]\n"
     ]
    },
    {
     "name": "stdout",
     "output_type": "stream",
     "text": [
      "Thermalising Initial Lattice\n"
     ]
    },
    {
     "name": "stderr",
     "output_type": "stream",
     "text": [
      "100%|██████████| 100/100 [11:14<00:00,  6.74s/it]\n",
      "100%|██████████| 10/10 [1:26:47<00:00, 520.75s/it]\n"
     ]
    }
   ],
   "source": [
    "Base_imp = Metrogluon_imp(num_conf = 10, num_latt = 8, num_dime = 4, mode='improved')\n",
    "ax1a_imp, ax2a_imp, U_imp = Base_imp.run_actual()"
   ]
  },
  {
   "cell_type": "markdown",
   "metadata": {},
   "source": [
    "Here are the result of Wilson loops for improved action"
   ]
  },
  {
   "cell_type": "code",
   "execution_count": 135,
   "metadata": {},
   "outputs": [
    {
     "name": "stdout",
     "output_type": "stream",
     "text": [
      "[0.54296733 0.54365658 0.54326071 0.53889812 0.53772731 0.53920642\n",
      " 0.53591994 0.53966881 0.53888816 0.54264986]\n",
      "[0.28692891 0.28879336 0.28699993 0.28071197 0.27897055 0.281196\n",
      " 0.27495026 0.28218839 0.27990347 0.28497175]\n",
      "average axa  improved = 0.540 (0.003)\n",
      "average ax2a improved = 0.283 (0.004)\n"
     ]
    }
   ],
   "source": [
    "AA1_imp = np.array(Base_imp.AX1A)\n",
    "AA2_imp = np.array(Base_imp.AX2A)\n",
    "print(AA1_imp)\n",
    "print(AA2_imp)\n",
    "print(f'average axa  improved = {np.average(AA1_imp):.3f} ({np.std(AA1_imp):.3f})')\n",
    "print(f'average ax2a improved = {np.average(AA2_imp):.3f} ({np.std(AA2_imp):.3f})')"
   ]
  },
  {
   "cell_type": "markdown",
   "metadata": {},
   "source": [
    "# Static Quark Potential\n",
    "\n",
    "Other observables that can be computed are the static quark potential, which satisfies\n",
    "\n",
    "\\begin{equation}\n",
    "a V(r) = \\lim_{t \\rightarrow \\infty} W(r, t) / W(r, t + a)\n",
    "\\end{equation}\n",
    "\n",
    "Here $r$ and $t$ are the size of the loops in the spatial and temporal dimension. To implement the calculation, we calculate the loops with fixed time-step and space-step, and then average over the three spatial directions for all sites.\n",
    "\n",
    "```\n",
    "for x in itertools.product(*([range(N)] * dim)):\n",
    "    a, b = loop_one_two(U, x, dim - 1, k)\n",
    "    loop_one += a\n",
    "    loop_two += b\n",
    "```\n",
    "\n",
    "This fixes the temporal direction $\\mu = 3$, while the function ```loop_one_two``` iterate over the spatial direction $\\nu = 0, 1, 2$\n",
    "\n",
    "```\n",
    "for j in range(0, dim - 1):\n",
    "    A = [] \n",
    "    B = []\n",
    "```\n",
    "\n",
    "Ideally, we should compute the loops for different time-step $t$ and as $t$ grows bigger, take the asymptotic value. However, here, we show only the computation for $t = a$. More options will be explored in the future. "
   ]
  },
  {
   "cell_type": "code",
   "execution_count": 136,
   "metadata": {},
   "outputs": [],
   "source": [
    "dim, N = 4, 8\n",
    "\n",
    "def one_two(U, x, k, i, j):\n",
    "    x1 = list(x); x1[j] = (x1[j] + k) % N\n",
    "    x2 = list(x); x2[j] = (x2[j] + k) % N; x2[i] = (x2[i] + 1) % N\n",
    "    return U[*x1, i].conj().T, U[*x2, i].conj().T @ U[*x1, i].conj().T\n",
    "\n",
    "def loop_one_two(U, x, i, k):\n",
    "    loops_one = np.zeros(k)\n",
    "    loops_two = np.zeros(k)\n",
    "    for j in range(0, dim - 1):\n",
    "        A = [] \n",
    "        B = []\n",
    "\n",
    "        for l in range(k):\n",
    "            xr = list(x); xr[j] = (xr[j] + k - 1 - l) % N; xr[i] = (xr[i] + 1) % N\n",
    "            xR = list(x); xR[j] = (xR[j] + k - 1 - l) % N; xR[i] = (xR[i] + 2) % N\n",
    "            xl = list(x); xl[j] = (xl[j] + k - 1 - l) % N\n",
    "            a, b = one_two(U, x, k - l, i, j) \n",
    "            A.append(a)\n",
    "            B.append(b)\n",
    "            A = [U[*xr, j] @ a @ U[*xl, j].conj().T for a in A]\n",
    "            B = [U[*xR, j] @ b @ U[*xl, j].conj().T for b in B]\n",
    "\n",
    "        aa, bb = one_two(U, x, 0, i, j) \n",
    "        A = np.array([np.trace(aa.conj().T @ a).real / 3 for a in A])\n",
    "        B = np.array([np.trace(bb.conj().T @ b).real / 3 for b in B])\n",
    "        loops_one += A\n",
    "        loops_two += B\n",
    "    return loops_one / 3, loops_two / 3 "
   ]
  },
  {
   "cell_type": "code",
   "execution_count": 159,
   "metadata": {},
   "outputs": [],
   "source": [
    "k = 4\n",
    "def static_potential(Us):\n",
    "    loops_one = []\n",
    "    loops_two = []\n",
    "    for U in Us:\n",
    "        loop_one = 0\n",
    "        loop_two = 0\n",
    "        for x in itertools.product(*([range(N)] * dim)):\n",
    "            a, b = loop_one_two(U, x, dim - 1, k)\n",
    "            loop_one += a\n",
    "            loop_two += b\n",
    "        loop_one /= (N ** dim)\n",
    "        loop_two /= (N ** dim)\n",
    "        loops_one.append(loop_one)\n",
    "        loops_two.append(loop_two)\n",
    "    return np.array(loops_one), np.array(loops_two)"
   ]
  },
  {
   "cell_type": "code",
   "execution_count": 160,
   "metadata": {},
   "outputs": [
    {
     "name": "stdout",
     "output_type": "stream",
     "text": [
      "['1.9240 (0.0222)', '3.3471 (0.0581)', '5.8592 (0.7031)', '9.4042 (2.4335)']\n",
      "['1.9091 (0.0245)', '3.5072 (0.1679)', '6.1418 (0.6307)', '11.2648 (3.5473)']\n"
     ]
    }
   ],
   "source": [
    "ones_ori, twos_ori = static_potential(Base.cfgs)\n",
    "ones_imp, twos_imp = static_potential(Base_imp.cfgs)\n",
    "potential_original = ones_ori / twos_ori\n",
    "potential_improved = ones_imp / twos_imp\n",
    "\n",
    "ori_mean_std = np.array([[a, b] for a, b in zip(potential_original.mean(axis=0)[::-1], potential_original.std(axis=0)[::-1])])\n",
    "imp_mean_std = np.array([[a, b] for a, b in zip(potential_improved.mean(axis=0)[::-1], potential_improved.std(axis=0)[::-1])])\n",
    "\n",
    "print([f'{a:.4f} ({b:.4f})' for a, b in ori_mean_std])\n",
    "print([f'{a:.4f} ({b:.4f})' for a, b in imp_mean_std])"
   ]
  },
  {
   "cell_type": "code",
   "execution_count": 177,
   "metadata": {},
   "outputs": [
    {
     "data": {
      "image/png": "[encoded data removed]",
      "text/plain": [
       "<Figure size 1800x400 with 3 Axes>"
      ]
     },
     "metadata": {},
     "output_type": "display_data"
    }
   ],
   "source": [
    "fig, axes = plt.subplots(nrows=1, ncols=3, figsize=(18, 4))\n",
    "radius = np.arange(1, 5, 1)\n",
    "\n",
    "axes[0].errorbar(radius, ori_mean_std[:,0], ori_mean_std[:,1], fmt = '.', capsize=5, label = r'$V(r)$ unimproved')\n",
    "axes[0].errorbar(radius, imp_mean_std[:,0], imp_mean_std[:,1], fmt = '.', capsize=5, label = r'$V(r)$ improved')\n",
    "axes[1].errorbar(radius, ones_ori.mean(axis=0)[::-1], ones_ori.std(axis=0)[::-1], fmt = '.', capsize=5, label = r'$a\\times  a$ unimproved')\n",
    "axes[1].errorbar(radius, twos_ori.mean(axis=0)[::-1], twos_ori.std(axis=0)[::-1], fmt = '.', capsize=5, label = r'$a\\times 2a$ unimproved')\n",
    "axes[2].errorbar(radius, ones_imp.mean(axis=0)[::-1], ones_imp.std(axis=0)[::-1], fmt = '.', capsize=5, label = r'$a\\times  a$ improved')\n",
    "axes[2].errorbar(radius, twos_imp.mean(axis=0)[::-1], twos_imp.std(axis=0)[::-1], fmt = '.', capsize=5, label = r'$a\\times 2a$ improved')\n",
    "\n",
    "for axis in axes:\n",
    "    standard_plot(axis)"
   ]
  },
  {
   "cell_type": "markdown",
   "metadata": {},
   "source": [
    "The plots above show the value of static quark potential and Wilson loops as function of $r$. For some reason (will be investigated again), the errors in improved action are unexpectedly bigger. However, the evolution of both the potential and Wilson loops are still within expectation."
   ]
  },
  {
   "cell_type": "code",
   "execution_count": null,
   "metadata": {},
   "outputs": [],
   "source": []
  }
 ],
 "metadata": {
  "kernelspec": {
   "display_name": "lattice",
   "language": "python",
   "name": "python3"
  },
  "language_info": {
   "codemirror_mode": {
    "name": "ipython",
    "version": 3
   },
   "file_extension": ".py",
   "mimetype": "text/x-python",
   "name": "python",
   "nbconvert_exporter": "python",
   "pygments_lexer": "ipython3",
   "version": "3.11.10"
  }
 },
 "nbformat": 4,
 "nbformat_minor": 2
}
